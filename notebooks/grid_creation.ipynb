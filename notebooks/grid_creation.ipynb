{
  "nbformat": 4,
  "nbformat_minor": 0,
  "metadata": {
    "colab": {
      "provenance": []
    },
    "kernelspec": {
      "name": "python3",
      "display_name": "Python 3"
    },
    "language_info": {
      "name": "python"
    }
  },
  "cells": [
    {
      "cell_type": "markdown",
      "source": [
        "# Step 2: Grid Creation (Uttarakhand Region)\n",
        "\n",
        "In this step, we divide the Uttarakhand region into small **10 km × 10 km cells**.  \n",
        "Each cell has:\n",
        "- A unique ID (`cell_id`)\n",
        "- Bounding box (min/max latitude & longitude)\n",
        "- Centroid coordinates (used for weather mapping)\n",
        "\n",
        "This allows us to link fire events and weather conditions to specific locations.\n"
      ],
      "metadata": {
        "id": "snKTv9b34o-Q"
      }
    },
    {
      "cell_type": "code",
      "source": [
        "import pandas as pd\n",
        "import numpy as np\n",
        "\n",
        "# ===== REGION: Uttarakhand =====\n",
        "BBOX = (78, 28.5, 81.5, 31.5)   # (min_lon, min_lat, max_lon, max_lat)\n",
        "CELL_DEG = 0.1                  # ~10 km grid cells (fine detail)\n",
        "OUTPUT = \"grid.csv\"\n",
        "# ===============================\n",
        "\n",
        "min_lon, min_lat, max_lon, max_lat = BBOX\n",
        "\n",
        "lons = np.arange(min_lon, max_lon, CELL_DEG)\n",
        "lats = np.arange(min_lat, max_lat, CELL_DEG)\n",
        "\n",
        "rows = []\n",
        "cell_id = 0\n",
        "for lon in lons:\n",
        "    for lat in lats:\n",
        "        cell_id += 1\n",
        "        rows.append({\n",
        "            \"cell_id\": f\"c{cell_id}\",\n",
        "            \"min_lon\": lon,\n",
        "            \"max_lon\": lon + CELL_DEG,\n",
        "            \"min_lat\": lat,\n",
        "            \"max_lat\": lat + CELL_DEG,\n",
        "            \"centroid_lon\": lon + CELL_DEG/2,\n",
        "            \"centroid_lat\": lat + CELL_DEG/2\n",
        "        })\n",
        "\n",
        "grid = pd.DataFrame(rows)\n",
        "grid.to_csv(OUTPUT, index=False)\n",
        "\n",
        "print(f\"✅ Saved grid to {OUTPUT} with {len(grid)} cells\")\n",
        "print(grid.head())\n"
      ],
      "metadata": {
        "colab": {
          "base_uri": "https://localhost:8080/"
        },
        "id": "FJEydfqsdmqt",
        "outputId": "f99a9da5-acf8-493e-974c-ea452f68408d"
      },
      "execution_count": null,
      "outputs": [
        {
          "output_type": "stream",
          "name": "stdout",
          "text": [
            "✅ Saved grid to grid.csv with 1050 cells\n",
            "  cell_id  min_lon  max_lon  min_lat  max_lat  centroid_lon  centroid_lat\n",
            "0      c1     78.0     78.1     28.5     28.6         78.05         28.55\n",
            "1      c2     78.0     78.1     28.6     28.7         78.05         28.65\n",
            "2      c3     78.0     78.1     28.7     28.8         78.05         28.75\n",
            "3      c4     78.0     78.1     28.8     28.9         78.05         28.85\n",
            "4      c5     78.0     78.1     28.9     29.0         78.05         28.95\n"
          ]
        }
      ]
    }
  ]
}