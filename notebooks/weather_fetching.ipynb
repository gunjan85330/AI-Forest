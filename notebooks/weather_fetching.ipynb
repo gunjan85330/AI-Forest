{
  "nbformat": 4,
  "nbformat_minor": 0,
  "metadata": {
    "colab": {
      "provenance": []
    },
    "kernelspec": {
      "name": "python3",
      "display_name": "Python 3"
    },
    "language_info": {
      "name": "python"
    }
  },
  "cells": [
    {
      "cell_type": "markdown",
      "source": [
        "# Step 3: Weather Data Fetching (ERA5)\n",
        "\n",
        "In this step, we fetch daily **weather data** from the Open-Meteo ERA5 API for each grid cell.  \n",
        "The parameters collected are:\n",
        "- Maximum & minimum temperature\n",
        "- Precipitation (rainfall)\n",
        "- Maximum windspeed\n",
        "- Average relative humidity\n",
        "\n",
        "The weather dataset (`weather.csv`) will be used with fire events to train machine learning models.\n"
      ],
      "metadata": {
        "id": "YUZSQwcU5Jgw"
      }
    },
    {
      "cell_type": "code",
      "source": [
        "import pandas as pd\n",
        "import requests\n",
        "import time\n",
        "from tqdm import tqdm\n",
        "\n",
        "grid = pd.read_csv(\"grid.csv\")\n",
        "\n",
        "# ===== USER SETTINGS =====\n",
        "START_DATE = \"2024-11-01\"\n",
        "END_DATE   = \"2025-01-13\"\n",
        "OUT_FILE   = \"weather.csv\"\n",
        "# =========================\n",
        "\n",
        "daily_vars = [\n",
        "    \"temperature_2m_max\",\n",
        "    \"temperature_2m_min\",\n",
        "    \"precipitation_sum\",\n",
        "    \"windspeed_10m_max\",\n",
        "    \"relative_humidity_2m_mean\"\n",
        "]\n",
        "daily = \",\".join(daily_vars)\n",
        "\n",
        "records = []\n",
        "\n",
        "for _, row in tqdm(grid.iterrows(), total=len(grid)):\n",
        "    lat, lon, cid = row[\"centroid_lat\"], row[\"centroid_lon\"], row[\"cell_id\"]\n",
        "\n",
        "    url = (\n",
        "        \"https://archive-api.open-meteo.com/v1/era5\"\n",
        "        f\"?latitude={lat}&longitude={lon}\"\n",
        "        f\"&start_date={START_DATE}&end_date={END_DATE}\"\n",
        "        f\"&daily={daily}&timezone=UTC\"\n",
        "    )\n",
        "\n",
        "    try:\n",
        "        r = requests.get(url, timeout=60)\n",
        "        if r.status_code != 200:\n",
        "            print(f\"Skipped {cid} (HTTP {r.status_code})\")\n",
        "            continue\n",
        "        js = r.json()\n",
        "        if \"daily\" not in js:\n",
        "            print(f\"No daily data for {cid}\")\n",
        "            continue\n",
        "        df = pd.DataFrame(js[\"daily\"])\n",
        "        df.insert(0, \"cell_id\", cid)\n",
        "        records.append(df)\n",
        "    except Exception as e:\n",
        "        print(f\"Error at {cid}: {e}\")\n",
        "        continue\n",
        "\n",
        "    time.sleep(0.5)  # slow down requests slightly\n",
        "\n",
        "# Save if we got something\n",
        "if records:\n",
        "    weather = pd.concat(records, ignore_index=True)\n",
        "    weather.to_csv(OUT_FILE, index=False)\n",
        "    print(f\"Saved weather data to {OUT_FILE} with shape {weather.shape}\")\n",
        "    print(weather.head())\n",
        "else:\n",
        "    print(\"No weather data fetched\")\n"
      ],
      "metadata": {
        "colab": {
          "base_uri": "https://localhost:8080/"
        },
        "id": "GQadpaQDejBg",
        "outputId": "8663f0b2-534a-4475-f775-1d206b7dfa0e"
      },
      "execution_count": null,
      "outputs": [
        {
          "output_type": "stream",
          "name": "stderr",
          "text": [
            " 86%|████████▌ | 904/1050 [18:00<45:49, 18.83s/it]"
          ]
        },
        {
          "output_type": "stream",
          "name": "stdout",
          "text": [
            "Error at c904: HTTPSConnectionPool(host='archive-api.open-meteo.com', port=443): Read timed out. (read timeout=60)\n"
          ]
        },
        {
          "output_type": "stream",
          "name": "stderr",
          "text": [
            "100%|██████████| 1050/1050 [20:44<00:00,  1.19s/it]\n"
          ]
        },
        {
          "output_type": "stream",
          "name": "stdout",
          "text": [
            "Saved weather data to weather.csv with shape (77626, 7)\n",
            "  cell_id        time  temperature_2m_max  temperature_2m_min  \\\n",
            "0      c1  2024-11-01                31.4                17.4   \n",
            "1      c1  2024-11-02                30.9                16.1   \n",
            "2      c1  2024-11-03                30.2                16.8   \n",
            "3      c1  2024-11-04                29.7                16.6   \n",
            "4      c1  2024-11-05                28.9                18.7   \n",
            "\n",
            "   precipitation_sum  windspeed_10m_max  relative_humidity_2m_mean  \n",
            "0                0.0               14.2                         56  \n",
            "1                0.0                9.3                         62  \n",
            "2                0.0                7.5                         69  \n",
            "3                0.0                7.5                         74  \n",
            "4                0.0                8.8                         77  \n"
          ]
        }
      ]
    }
  ]
}