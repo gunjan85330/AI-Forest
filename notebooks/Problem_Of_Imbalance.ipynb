{
  "nbformat": 4,
  "nbformat_minor": 0,
  "metadata": {
    "colab": {
      "provenance": []
    },
    "kernelspec": {
      "name": "python3",
      "display_name": "Python 3"
    },
    "language_info": {
      "name": "python"
    }
  },
  "cells": [
    {
      "cell_type": "code",
      "execution_count": null,
      "metadata": {
        "id": "ZAaRgrp60CLN"
      },
      "outputs": [],
      "source": [
        "from imblearn.over_sampling import RandomOverSampler\n",
        "\n",
        "ros = RandomOverSampler(random_state=42)\n",
        "X_res, y_res = ros.fit_resample(X_train, y_train)\n",
        "\n",
        "print(\"Before resampling:\", X_train.shape, \"fires:\", sum(y_train))\n",
        "print(\"After resampling:\", X_res.shape, \"fires:\", sum(y_res))\n",
        "\n",
        "rf = RandomForestClassifier(n_estimators=500, random_state=42, max_depth=15)\n",
        "rf.fit(X_res, y_res)\n",
        "y_prob = rf.predict_proba(X_test)[:, 1]\n",
        "\n",
        "print(\"ROC-AUC:\", roc_auc_score(y_test, y_prob))\n",
        "print(classification_report(y_test, (y_prob >= 0.3).astype(int)))"
      ]
    },
    {
      "cell_type": "code",
      "source": [
        "import numpy as np\n",
        "\n",
        "# Use last available date in weather data\n",
        "latest_date = weather[\"date\"].max()\n",
        "latest_weather = weather[weather[\"date\"] == latest_date][[\"cell_id\"] + feature_cols]\n",
        "\n",
        "# Predict fire probabilities\n",
        "latest_weather[\"fire_risk\"] = rf.predict_proba(latest_weather[feature_cols])[:, 1]\n",
        "\n",
        "latest_weather.to_csv(\"predictions.csv\", index=False)\n",
        "print(\"Predictions saved for\", latest_date, \"with shape\", latest_weather.shape)\n",
        "print(latest_weather.head())\n"
      ],
      "metadata": {
        "id": "qHOXhGjL0mD4"
      },
      "execution_count": null,
      "outputs": []
    },
    {
      "cell_type": "code",
      "source": [
        "import pandas as pd\n",
        "\n",
        "# Load weather + grid\n",
        "weather = pd.read_csv(\"weather.csv\", parse_dates=[\"time\"])\n",
        "grid = pd.read_csv(\"grid.csv\")\n",
        "\n",
        "# Last available date in weather data\n",
        "latest_date = weather[\"time\"].max()\n",
        "print(\"Latest date:\", latest_date)\n",
        "\n",
        "# Filter latest weather\n",
        "latest_weather = weather[weather[\"time\"] == latest_date].copy()\n",
        "\n",
        "# Select features\n",
        "feature_cols = [\n",
        "    \"temperature_2m_max\",\n",
        "    \"temperature_2m_min\",\n",
        "    \"precipitation_sum\",\n",
        "    \"windspeed_10m_max\",\n",
        "    \"relative_humidity_2m_mean\"\n",
        "]\n",
        "\n",
        "# Predict fire risk\n",
        "latest_weather[\"fire_risk\"] = rf.predict_proba(latest_weather[feature_cols])[:, 1]\n",
        "\n",
        "# Merge centroids for plotting\n",
        "pred_map = latest_weather.merge(\n",
        "    grid[[\"cell_id\", \"centroid_lon\", \"centroid_lat\"]],\n",
        "    on=\"cell_id\"\n",
        ")\n",
        "\n",
        "pred_map.to_csv(\"predictions.csv\", index=False)\n",
        "print(\"✅ Saved predictions.csv with shape:\", pred_map.shape)\n",
        "pred_map.head()"
      ],
      "metadata": {
        "id": "-ZPjajES0ps2"
      },
      "execution_count": null,
      "outputs": []
    }
  ]
}